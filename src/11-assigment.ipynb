{
 "cells": [
  {
   "attachments": {},
   "cell_type": "markdown",
   "id": "7da6badd",
   "metadata": {},
   "source": [
    "# Задания"
   ]
  },
  {
   "cell_type": "code",
   "execution_count": 20,
   "id": "a5684e7c",
   "metadata": {},
   "outputs": [],
   "source": [
    "import numpy as np\n",
    "import pandas as pd\n",
    "import matplotlib.pyplot as plt\n",
    "from scipy import stats\n",
    "from scipy.stats import norm\n",
    "from statsmodels.stats.proportion import proportion_confint\n",
    "from scipy.stats import pearsonr, spearmanr"
   ]
  },
  {
   "attachments": {},
   "cell_type": "markdown",
   "id": "a788fc8d",
   "metadata": {},
   "source": [
    "## Доверительные интервалы"
   ]
  },
  {
   "attachments": {},
   "cell_type": "markdown",
   "id": "28ef55c5",
   "metadata": {},
   "source": [
    "### Задание 1"
   ]
  },
  {
   "attachments": {},
   "cell_type": "markdown",
   "id": "84673cba",
   "metadata": {},
   "source": [
    "Построй диаграмму зависимости количества проданной пиццы от дня недели.\n",
    "Вывести дни недели, в которые продано **больше** и  **меньше** всего пиццы."
   ]
  },
  {
   "cell_type": "code",
   "execution_count": 21,
   "id": "b338a817",
   "metadata": {},
   "outputs": [
    {
     "data": {
      "text/html": [
       "<div>\n",
       "<style scoped>\n",
       "    .dataframe tbody tr th:only-of-type {\n",
       "        vertical-align: middle;\n",
       "    }\n",
       "\n",
       "    .dataframe tbody tr th {\n",
       "        vertical-align: top;\n",
       "    }\n",
       "\n",
       "    .dataframe thead th {\n",
       "        text-align: right;\n",
       "    }\n",
       "</style>\n",
       "<table border=\"1\" class=\"dataframe\">\n",
       "  <thead>\n",
       "    <tr style=\"text-align: right;\">\n",
       "      <th></th>\n",
       "      <th>order_details_id</th>\n",
       "      <th>order_id</th>\n",
       "      <th>pizza_id</th>\n",
       "      <th>order_date</th>\n",
       "      <th>order_time</th>\n",
       "      <th>unit_price</th>\n",
       "      <th>total_price</th>\n",
       "      <th>pizza_size</th>\n",
       "      <th>pizza_category</th>\n",
       "      <th>pizza_ingredients</th>\n",
       "      <th>pizza_name</th>\n",
       "      <th>lead_time</th>\n",
       "    </tr>\n",
       "  </thead>\n",
       "  <tbody>\n",
       "    <tr>\n",
       "      <th>0</th>\n",
       "      <td>1</td>\n",
       "      <td>1</td>\n",
       "      <td>hawaiian_m</td>\n",
       "      <td>2015-01-01 00:00:00</td>\n",
       "      <td>11:38:36</td>\n",
       "      <td>13,25</td>\n",
       "      <td>13,25</td>\n",
       "      <td>M</td>\n",
       "      <td>Classic</td>\n",
       "      <td>Sliced Ham, Pineapple, Mozzarella Cheese</td>\n",
       "      <td>The Hawaiian Pizza</td>\n",
       "      <td>2015-01-01 11:53:30</td>\n",
       "    </tr>\n",
       "    <tr>\n",
       "      <th>1</th>\n",
       "      <td>2</td>\n",
       "      <td>2</td>\n",
       "      <td>classic_dlx_m</td>\n",
       "      <td>2015-01-01 00:00:00</td>\n",
       "      <td>11:57:40</td>\n",
       "      <td>16</td>\n",
       "      <td>16</td>\n",
       "      <td>M</td>\n",
       "      <td>Classic</td>\n",
       "      <td>Pepperoni, Mushrooms, Red Onions, Red Peppers,...</td>\n",
       "      <td>The Classic Deluxe Pizza</td>\n",
       "      <td>2015-01-01 12:16:26</td>\n",
       "    </tr>\n",
       "    <tr>\n",
       "      <th>2</th>\n",
       "      <td>3</td>\n",
       "      <td>2</td>\n",
       "      <td>five_cheese_l</td>\n",
       "      <td>2015-01-01 00:00:00</td>\n",
       "      <td>11:57:40</td>\n",
       "      <td>18,5</td>\n",
       "      <td>18,5</td>\n",
       "      <td>L</td>\n",
       "      <td>Veggie</td>\n",
       "      <td>Mozzarella Cheese, Provolone Cheese, Smoked Go...</td>\n",
       "      <td>The Five Cheese Pizza</td>\n",
       "      <td>2015-01-01 12:16:19</td>\n",
       "    </tr>\n",
       "  </tbody>\n",
       "</table>\n",
       "</div>"
      ],
      "text/plain": [
       "  order_details_id order_id       pizza_id           order_date order_time  \\\n",
       "0                1        1     hawaiian_m  2015-01-01 00:00:00   11:38:36   \n",
       "1                2        2  classic_dlx_m  2015-01-01 00:00:00   11:57:40   \n",
       "2                3        2  five_cheese_l  2015-01-01 00:00:00   11:57:40   \n",
       "\n",
       "  unit_price total_price pizza_size pizza_category  \\\n",
       "0      13,25       13,25          M        Classic   \n",
       "1         16          16          M        Classic   \n",
       "2       18,5        18,5          L         Veggie   \n",
       "\n",
       "                                   pizza_ingredients  \\\n",
       "0           Sliced Ham, Pineapple, Mozzarella Cheese   \n",
       "1  Pepperoni, Mushrooms, Red Onions, Red Peppers,...   \n",
       "2  Mozzarella Cheese, Provolone Cheese, Smoked Go...   \n",
       "\n",
       "                 pizza_name            lead_time  \n",
       "0        The Hawaiian Pizza  2015-01-01 11:53:30  \n",
       "1  The Classic Deluxe Pizza  2015-01-01 12:16:26  \n",
       "2     The Five Cheese Pizza  2015-01-01 12:16:19  "
      ]
     },
     "execution_count": 21,
     "metadata": {},
     "output_type": "execute_result"
    }
   ],
   "source": [
    "with open('../datasets/pizza.csv', 'r') as f:\n",
    "    next(f)\n",
    "    df = pd.DataFrame([l.rstrip().split(';') for l in f],\n",
    "                      columns=['order_details_id', 'order_id', 'pizza_id', 'order_date', 'order_time', 'unit_price',\n",
    "                               'total_price', 'pizza_size', 'pizza_category', 'pizza_ingredients', 'pizza_name', 'lead_time'])\n",
    "df.head(3)"
   ]
  },
  {
   "cell_type": "code",
   "execution_count": 22,
   "id": "aaae64d7",
   "metadata": {},
   "outputs": [
    {
     "data": {
      "image/png": "[encoded data removed]",
      "text/plain": [
       "<Figure size 640x480 with 1 Axes>"
      ]
     },
     "metadata": {},
     "output_type": "display_data"
    },
    {
     "name": "stdout",
     "output_type": "stream",
     "text": [
      "День с наибольшим количеством проданных пицц: ('Thursday', 857)\n",
      "День с наименьшим количеством проданных пицц: ('Sunday', 628)\n"
     ]
    }
   ],
   "source": [
    "# Преобразование столбца 'order_date' в тип даты\n",
    "df['order_date'] = pd.to_datetime(df['order_date'])\n",
    "\n",
    "# Добавление столбца 'day_of_week' с названиями дней недели\n",
    "df['day_of_week'] = df['order_date'].dt.day_name()\n",
    "\n",
    "# Подсчет количества проданных пицц для каждого дня недели\n",
    "pizza_counts = df['day_of_week'].value_counts()\n",
    "\n",
    "colors = ['red', 'orange', 'yellow', 'green', 'blue', 'violet', 'black']\n",
    "kwargs = {'width': 0.3, 'color': colors }\n",
    "\n",
    "# Построение диаграммы\n",
    "plt.bar(pizza_counts.index, pizza_counts.values,  **kwargs )\n",
    "plt.xlabel('День недели')\n",
    "plt.ylabel('Количество проданных пицц')\n",
    "plt.title('Продажи пицц по дням недели')\n",
    "plt.show()\n",
    "\n",
    "print(f\"День с наибольшим количеством проданных пицц: {pizza_counts.idxmax(),pizza_counts [0]}\")\n",
    "print(f\"День с наименьшим количеством проданных пицц: {pizza_counts.idxmin(),pizza_counts [-1]}\")"
   ]
  },
  {
   "attachments": {},
   "cell_type": "markdown",
   "id": "76d81b7e",
   "metadata": {},
   "source": [
    "### Задание 2"
   ]
  },
  {
   "attachments": {},
   "cell_type": "markdown",
   "id": "9aaf3a6e",
   "metadata": {},
   "source": [
    "Посчитай, сколько **секунд** необходимо для приготовления каждой пиццы по всем заказам. Значения сохранить в новый столбец - `cook_time`. Найти среднее, медианное, максимальное и минимальное время приготовления пиццы. Результат округлите до целого."
   ]
  },
  {
   "cell_type": "code",
   "execution_count": 23,
   "id": "cf58a66c",
   "metadata": {},
   "outputs": [
    {
     "name": "stdout",
     "output_type": "stream",
     "text": [
      "Среднее время приготовления пиццы: 1007 сек\n",
      "Медианное время приготовления пиццы: 1006 сек\n",
      "Максимальное время приготовления пиццы: 1609 сек\n",
      "Минимальное время приготовления пиццы: 444 сек\n"
     ]
    },
    {
     "name": "stderr",
     "output_type": "stream",
     "text": [
      "C:\\Users\\1\\AppData\\Local\\Temp\\ipykernel_5612\\2101208222.py:1: UserWarning: Could not infer format, so each element will be parsed individually, falling back to `dateutil`. To ensure parsing is consistent and as-expected, please specify a format.\n",
      "  df['order_time'] = pd.to_datetime(df['order_time'])\n"
     ]
    }
   ],
   "source": [
    "df['order_time'] = pd.to_datetime(df['order_time'])\n",
    "\n",
    "df['lead_time'] = pd.to_datetime(df['lead_time'])\n",
    "# с помощью pd.to_timedelta() строковые значения преобразуются в тип timedelta.\n",
    "df['order_time'] = df['order_date'] + pd.to_timedelta(df['order_time'].dt.strftime('%H:%M:%S'))\n",
    "# dt.total_seconds() преобразует timedelta в количество секунд. Результат сохраняется в столбце 'cook_time'.\n",
    "df['cook_time'] = (df['lead_time'] - df['order_time']).dt.total_seconds()\n",
    "\n",
    "cook_time_mean = round(df['cook_time'].mean())\n",
    "cook_time_median = round(df['cook_time'].median())\n",
    "cook_time_max = round(df['cook_time'].max())\n",
    "cook_time_min = round(df['cook_time'].min())\n",
    "\n",
    "print(f\"Среднее время приготовления пиццы: {cook_time_mean} сек\")\n",
    "print(f\"Медианное время приготовления пиццы: {cook_time_median} сек\")\n",
    "print(f\"Максимальное время приготовления пиццы: {cook_time_max} сек\")\n",
    "print(f\"Минимальное время приготовления пиццы: {cook_time_min} сек\")"
   ]
  },
  {
   "attachments": {},
   "cell_type": "markdown",
   "id": "e3ddd404",
   "metadata": {},
   "source": [
    "### Задание 3"
   ]
  },
  {
   "attachments": {},
   "cell_type": "markdown",
   "id": "666426b6",
   "metadata": {},
   "source": [
    "Построй 95% доверительный интервал для среднего времени приготовления пиццы в **секундах**. Интервал округли до целого\n",
    "> Для расчета стандартного отклонения используй `numpy.std(ddof=1)`"
   ]
  },
  {
   "cell_type": "code",
   "execution_count": 24,
   "id": "05fbb9d2",
   "metadata": {},
   "outputs": [
    {
     "name": "stdout",
     "output_type": "stream",
     "text": [
      "1002 1012\n"
     ]
    }
   ],
   "source": [
    "# Вычисляется стандартное отклонение std_dev для столбца 'cook_time' с помощью функции np.std()\n",
    "# Параметр ddof=1 указывает на использование несмещенного оценочного стандартного отклонения.\n",
    "std_dev = np.std(df['cook_time'], ddof=1)\n",
    "\n",
    "# Количество наблюдений (длинна)\n",
    "n = len(df['cook_time'])\n",
    "\n",
    "# В этой строке кода вычисляется значение t-статистики t_value для заданного уровня значимости (95% доверительный интервал). \n",
    "# Функция stats.t.ppf() используется из модуля scipy.stats для расчета значения t-статистики на основе заданной вероятности \n",
    "# и степеней свободы (количество наблюдений минус 1).\n",
    "t_value = stats.t.ppf(0.975, df=n-1)\n",
    "\n",
    "# В этой строке кода вычисляется предельная ошибка margin_error путем умножения значения t-статистики на стандартное отклонение, \n",
    "# деленное на квадратный корень из количества наблюдений.\n",
    "margin_error = t_value * std_dev / np.sqrt(n)\n",
    "\n",
    "# В этой строке кода вычисляется доверительный интервал confidence_interval для среднего значения времени приготовления пиццы.\n",
    "confidence_interval = (cook_time_mean - margin_error, cook_time_mean + margin_error)\n",
    "\n",
    "confidence_interval = (int(round(confidence_interval[0])), int(round(confidence_interval[1])))\n",
    "\n",
    "print(*confidence_interval)"
   ]
  },
  {
   "attachments": {},
   "cell_type": "markdown",
   "id": "5ee86693",
   "metadata": {},
   "source": [
    "### Задание 4"
   ]
  },
  {
   "attachments": {},
   "cell_type": "markdown",
   "id": "7de38e4e",
   "metadata": {},
   "source": [
    "Хозяин ресторана хочет оптимизировать меню ресторана. При формировании цены на пиццу хозяин хочет учитывать время \n",
    "её изготовления. Давай найдем ту пиццу (pizza_name), у которой верхняя граница доверительного интервала её изготовления \n",
    "самая высокая.\n",
    "> Среди пицц, у которых за все время заказывали более 100 штук"
   ]
  },
  {
   "cell_type": "code",
   "execution_count": 25,
   "id": "522c8330",
   "metadata": {},
   "outputs": [
    {
     "data": {
      "text/plain": [
       "'The Italian Vegetables Pizza'"
      ]
     },
     "execution_count": 25,
     "metadata": {},
     "output_type": "execute_result"
    }
   ],
   "source": [
    "# Создаем новый датафрейм 'pizza', содержащий только столбцы 'pizza_name' и 'cook_time'\n",
    "pizza = df[['pizza_name', 'cook_time']]\n",
    "\n",
    "# Фильтруем датафрейм 'pizza', чтобы оставить только пиццы, которые заказывали более 100 раз\n",
    "pizza = pizza[pizza.groupby('pizza_name')['pizza_name'].transform('count') > 100]\n",
    "\n",
    "# Вычисляем среднее время приготовления пиццы для каждого уникального значения 'pizza_name'\n",
    "mean_time = pizza.groupby('pizza_name')['cook_time'].mean()\n",
    "\n",
    "# Вычисляем стандартное отклонение времени приготовления пиццы для каждого уникального значения 'pizza_name'\n",
    "std_dev = pizza.groupby('pizza_name')['cook_time'].std(ddof=1)\n",
    "\n",
    "# Вычисляем количество заказов для каждой пиццы\n",
    "n = pizza.groupby('pizza_name')['cook_time'].count()\n",
    "\n",
    "# Вычисляем оптимальную пиццу с самой высокой верхней границей доверительного интервала\n",
    "upper_bound = (mean_time + (t_value * std_dev / np.sqrt(n)))\n",
    "\n",
    "upper_bound.idxmax()"
   ]
  },
  {
   "attachments": {},
   "cell_type": "markdown",
   "id": "f81baa2f",
   "metadata": {},
   "source": [
    "### Задание 5"
   ]
  },
  {
   "attachments": {},
   "cell_type": "markdown",
   "id": "005c00f5",
   "metadata": {},
   "source": [
    "Также хозяину ресторана хочется убрать из меню пиццы с нестабильным временем изготовления. \n",
    "Давай найдем пиццу с самым широким доверительным интервалом.\n",
    "> Среди пицц, у которых за все время заказывали более 100 штук"
   ]
  },
  {
   "cell_type": "code",
   "execution_count": 26,
   "id": "8932a0cc",
   "metadata": {},
   "outputs": [
    {
     "data": {
      "text/plain": [
       "'The Chicken Alfredo Pizza'"
      ]
     },
     "execution_count": 26,
     "metadata": {},
     "output_type": "execute_result"
    }
   ],
   "source": [
    "# Вычисляем нижнюю границу доверительного интервала для каждой пиццы\n",
    "lower_bound = mean_time - (t_value * std_dev / np.sqrt(n))\n",
    "\n",
    "# Вычисляем ширину доверительного интервала для каждой пиццы\n",
    "interval_width = upper_bound - lower_bound\n",
    "\n",
    "# Находим пиццу с самой широкой границей доверительного интервала\n",
    "interval_width.idxmax()"
   ]
  },
  {
   "attachments": {},
   "cell_type": "markdown",
   "id": "b28393c5",
   "metadata": {},
   "source": [
    "## AB тестирование"
   ]
  },
  {
   "attachments": {},
   "cell_type": "markdown",
   "id": "9dc3e5a8",
   "metadata": {},
   "source": [
    "### Задание 6"
   ]
  },
  {
   "cell_type": "code",
   "execution_count": 27,
   "id": "50657299",
   "metadata": {},
   "outputs": [
    {
     "data": {
      "text/html": [
       "<div>\n",
       "<style scoped>\n",
       "    .dataframe tbody tr th:only-of-type {\n",
       "        vertical-align: middle;\n",
       "    }\n",
       "\n",
       "    .dataframe tbody tr th {\n",
       "        vertical-align: top;\n",
       "    }\n",
       "\n",
       "    .dataframe thead th {\n",
       "        text-align: right;\n",
       "    }\n",
       "</style>\n",
       "<table border=\"1\" class=\"dataframe\">\n",
       "  <thead>\n",
       "    <tr style=\"text-align: right;\">\n",
       "      <th></th>\n",
       "      <th>banner_a</th>\n",
       "      <th>banner_b</th>\n",
       "    </tr>\n",
       "  </thead>\n",
       "  <tbody>\n",
       "    <tr>\n",
       "      <th>0</th>\n",
       "      <td>0</td>\n",
       "      <td>0</td>\n",
       "    </tr>\n",
       "    <tr>\n",
       "      <th>1</th>\n",
       "      <td>1</td>\n",
       "      <td>1</td>\n",
       "    </tr>\n",
       "    <tr>\n",
       "      <th>2</th>\n",
       "      <td>0</td>\n",
       "      <td>0</td>\n",
       "    </tr>\n",
       "    <tr>\n",
       "      <th>3</th>\n",
       "      <td>0</td>\n",
       "      <td>0</td>\n",
       "    </tr>\n",
       "    <tr>\n",
       "      <th>4</th>\n",
       "      <td>0</td>\n",
       "      <td>0</td>\n",
       "    </tr>\n",
       "    <tr>\n",
       "      <th>...</th>\n",
       "      <td>...</td>\n",
       "      <td>...</td>\n",
       "    </tr>\n",
       "    <tr>\n",
       "      <th>995</th>\n",
       "      <td>0</td>\n",
       "      <td>0</td>\n",
       "    </tr>\n",
       "    <tr>\n",
       "      <th>996</th>\n",
       "      <td>0</td>\n",
       "      <td>0</td>\n",
       "    </tr>\n",
       "    <tr>\n",
       "      <th>997</th>\n",
       "      <td>0</td>\n",
       "      <td>0</td>\n",
       "    </tr>\n",
       "    <tr>\n",
       "      <th>998</th>\n",
       "      <td>0</td>\n",
       "      <td>0</td>\n",
       "    </tr>\n",
       "    <tr>\n",
       "      <th>999</th>\n",
       "      <td>0</td>\n",
       "      <td>0</td>\n",
       "    </tr>\n",
       "  </tbody>\n",
       "</table>\n",
       "<p>1000 rows × 2 columns</p>\n",
       "</div>"
      ],
      "text/plain": [
       "    banner_a banner_b\n",
       "0          0        0\n",
       "1          1        1\n",
       "2          0        0\n",
       "3          0        0\n",
       "4          0        0\n",
       "..       ...      ...\n",
       "995        0        0\n",
       "996        0        0\n",
       "997        0        0\n",
       "998        0        0\n",
       "999        0        0\n",
       "\n",
       "[1000 rows x 2 columns]"
      ]
     },
     "execution_count": 27,
     "metadata": {},
     "output_type": "execute_result"
    }
   ],
   "source": [
    "with open('../datasets/click.csv', 'r') as f:\n",
    "    next(f)\n",
    "    df1 = pd.DataFrame([l.rstrip().split(',') for l in f],\n",
    "                      columns=['banner_a','banner_b'])\n",
    "df1"
   ]
  },
  {
   "attachments": {},
   "cell_type": "markdown",
   "id": "028eddf8",
   "metadata": {},
   "source": [
    "В качестве нулевой гипотезы (H0) выберем, что старый баннер лучше нового.  В качестве альтернативной гипотезы (H1) выберем, \n",
    "что новый баннер лучше старого. Построй 95% доверительный интервал для доли каждого из баннеров, используя метод \n",
    "[proportion_confint](https://www.statsmodels.org/devel/generated/statsmodels.stats.proportion.proportion_confint.html)\n",
    "библиотеки statsmodels. Пересекаются ли эти интервалы?"
   ]
  },
  {
   "cell_type": "code",
   "execution_count": 28,
   "id": "8b30b379",
   "metadata": {},
   "outputs": [
    {
     "name": "stdout",
     "output_type": "stream",
     "text": [
      "Доверительный интервал для баннера A: (0.02530064022092865, 0.04869935977907135)\n",
      "Доверительный интервал для баннера B: (0.03911451622486782, 0.06688548377513218)\n",
      "Доверительные интервалы пересекаются\n"
     ]
    }
   ],
   "source": [
    "# Подсчет количества успехов и общего количества наблюдений для баннера A\n",
    "ban_a = sum(df1['banner_a'].astype(float))  # Количество успехов (показов баннера A)\n",
    "nobs_a = len(df1['banner_a'])  # Общее количество наблюдений (всего показов баннера A)\n",
    "\n",
    "# Подсчет количества успехов и общего количества наблюдений для баннера B\n",
    "ban_b = sum(df1['banner_b'].astype(float))  # Количество успехов (показов баннера B)\n",
    "nobs_b = len(df1['banner_b'])  # Общее количество наблюдений (всего показов баннера B)\n",
    "\n",
    "# Вычисление доверительного интервала для баннера A\n",
    "ci_a = proportion_confint(ban_a , nobs_a)\n",
    "\n",
    "# Вычисление доверительного интервала для баннера B\n",
    "ci_b = proportion_confint(ban_b, nobs_b)\n",
    "\n",
    "print(f\"Доверительный интервал для баннера A: {ci_a}\")\n",
    "print(f\"Доверительный интервал для баннера B: {ci_b}\")\n",
    "\n",
    "# Проверка пересечения интервалов\n",
    "if ci_a[0] > ci_b[1] or ci_a[1] < ci_b[0]:\n",
    "    print(\"Доверительные интервалы не пересекаются\")\n",
    "else:\n",
    "    print(\"Доверительные интервалы пересекаются\")"
   ]
  },
  {
   "attachments": {},
   "cell_type": "markdown",
   "id": "84ac442f",
   "metadata": {},
   "source": [
    "### Задание 7"
   ]
  },
  {
   "attachments": {},
   "cell_type": "markdown",
   "id": "8d760d69",
   "metadata": {},
   "source": [
    "Для более детальной оценки построй 95% доверительный интервал для разности двух долей.\n",
    "**Ответ дай в формате:**\\\n",
    "95% доверительный интервал для разности двух долей: [0.99847, 9.99847]"
   ]
  },
  {
   "attachments": {},
   "cell_type": "markdown",
   "id": "2f34dfbc",
   "metadata": {},
   "source": [
    "Левая и правая границы доверительного интервала рассчитываются по формулам:\n",
    "$$p_a - p_b \\pm z * \\sqrt{\\frac{p_a(1 - p_a)}{n_a} + \\frac{p_b(1 - p_b)}{n_b}}$$\n",
    "Где\n",
    "\n",
    "$p_a = \\frac{n_{like(a)}}{n_{a}}$,\n",
    "\n",
    "$p_b = \\frac{n_{like(b)}}{n_{b}}$,\n",
    "\n",
    "$z = 1-\\frac{\\alpha}{2}$ (используй scipy.stats.norm.ppf)\n",
    "\n",
    "$n_a$ - общее количество кликов по баннеру а\n",
    "\n",
    "$n_b$ - общее количество кликов по баннеру b\n",
    "\n",
    "$n_{like(a)}$ - количество лайков по баннеру а\n",
    "\n",
    "$n_{like(b)}$ - количество лайков по баннеру b"
   ]
  },
  {
   "cell_type": "code",
   "execution_count": 29,
   "id": "aa51d523",
   "metadata": {},
   "outputs": [
    {
     "name": "stdout",
     "output_type": "stream",
     "text": [
      "95% доверительный интервал для разности двух долей: [-0.0341571385110543, 0.002157138511054299]\n"
     ]
    }
   ],
   "source": [
    "p_a = ban_a / nobs_a  # Доля лайков по баннеру A\n",
    "p_b = ban_b / nobs_b  # Доля лайков по баннеру B\n",
    "\n",
    "alpha = 0.05  # Уровень значимости\n",
    "\n",
    "z = norm.ppf(1 - 0.05 / 2)  # Критическое значение стандартного нормального распределения\n",
    "\n",
    "se = np.sqrt((p_a * (1 - p_a) / nobs_a) + (p_b * (1 - p_b) / nobs_b))  # Стандартная ошибка разности долей\n",
    "\n",
    "lower = (p_a - p_b) - z * se  # Левая граница доверительного интервала\n",
    "upper = (p_a - p_b) + z * se  # Правая граница доверительного интервала\n",
    "\n",
    "confidence_interval = [lower, upper]\n",
    "\n",
    "print(f\"95% доверительный интервал для разности двух долей: {confidence_interval}\")"
   ]
  },
  {
   "attachments": {},
   "cell_type": "markdown",
   "id": "adda94db",
   "metadata": {},
   "source": [
    "### Задание 8"
   ]
  },
  {
   "attachments": {},
   "cell_type": "markdown",
   "id": "b9f88120",
   "metadata": {},
   "source": [
    "Проведи АБ-тест. Какой баннер лучше? H0 - Старый баннер или H1 - новый баннер.\n",
    "В этом тебе поможем функция [z-критерия](code-samples/stats.py)."
   ]
  },
  {
   "attachments": {},
   "cell_type": "markdown",
   "id": "771558cb",
   "metadata": {},
   "source": [
    "$$Z({X_1, X_2}) =  \\frac{p_a - p_b}{\\sqrt{P(1 - P)(\\frac{1}{n_a} + \\frac{1}{n_b})}}$$\n",
    "$$P = \\frac{p_a{n_a} + p_b{n_b}}{{n_a} + {n_b}} $$\n",
    "\n",
    "$p_a, p_b = \\frac{∑кликов}{n}$, n - общее количество кликов по баннеру\n",
    "\n",
    "$n_a$ - общее количество кликов по баннеру а\n",
    "\n",
    "$n_b$ - общее количество кликов по баннеру b"
   ]
  },
  {
   "cell_type": "code",
   "execution_count": 30,
   "id": "c4349f01",
   "metadata": {},
   "outputs": [],
   "source": [
    "def z_stat(sample1, sample2):\n",
    "    n_a = len(sample1)\n",
    "    n_b = len(sample2)\n",
    "\n",
    "    p_a = float(sum(sample1)) / n_a\n",
    "    p_b = float(sum(sample2)) / n_b \n",
    "    P = float(p_a * n_a + p_b * n_b) / (n_a + n_b)\n",
    "  \n",
    "    return (p_a - p_b) / np.sqrt(P * (1 - P) * (1. / n_a + 1. / n_b))"
   ]
  },
  {
   "cell_type": "code",
   "execution_count": 31,
   "id": "b12d59dd",
   "metadata": {},
   "outputs": [
    {
     "name": "stdout",
     "output_type": "stream",
     "text": [
      "Новый баннер лучше старого.\n"
     ]
    }
   ],
   "source": [
    "z_value = z_stat(df1['banner_b'].astype(int), df1['banner_a'].astype(int))\n",
    "\n",
    "# Вычисление критического значения z для уровня значимости alpha\n",
    "z = norm.ppf(1 - 0.05 / 2)\n",
    "\n",
    "if  z > z_value :\n",
    "    print(\"Новый баннер лучше старого.\")\n",
    "else:\n",
    "    print(\"Старый баннер лучше нового.\")"
   ]
  },
  {
   "attachments": {},
   "cell_type": "markdown",
   "id": "c33139fd",
   "metadata": {},
   "source": [
    "## Корреляции"
   ]
  },
  {
   "attachments": {},
   "cell_type": "markdown",
   "id": "8a4a0430",
   "metadata": {},
   "source": [
    "### Задание 9"
   ]
  },
  {
   "attachments": {},
   "cell_type": "markdown",
   "id": "02de20e4",
   "metadata": {},
   "source": [
    "Прочитай про корреляции Пирсона и Спирмена. Узнай какие связи между выборками они способны находить. По сгенерированным выборкам посчитай коррелицию Пирсона и Спирмена для выборок `x-y1`, `x-y2`, `x-y3`. Отрисуй выборки в формате, как показано ниже:\n",
    "<img src=\"../misc/images/corr.png\">"
   ]
  },
  {
   "cell_type": "code",
   "execution_count": 32,
   "id": "11cd2b56",
   "metadata": {},
   "outputs": [],
   "source": [
    "x = np.linspace(-10,10,100)\n",
    "y1 = x ** 2\n",
    "y2 = -x **2\n",
    "y3 = np.log(x ** 2 + 1)"
   ]
  },
  {
   "cell_type": "code",
   "execution_count": 33,
   "id": "7ab55935",
   "metadata": {},
   "outputs": [
    {
     "name": "stdout",
     "output_type": "stream",
     "text": [
      "Корреляция Пирсона (x-y1): -3.469446951953614e-17\n",
      "Корреляция Спирмена (x-y1): -0.002646479021386217\n"
     ]
    }
   ],
   "source": [
    "corr_pearson, _ = pearsonr(x, y1)\n",
    "corr_spearman, _ = spearmanr(x, y1)\n",
    "print(\"Корреляция Пирсона (x-y1):\", corr_pearson)\n",
    "print(\"Корреляция Спирмена (x-y1):\", corr_spearman)"
   ]
  },
  {
   "cell_type": "code",
   "execution_count": 34,
   "id": "5bf4ed0a",
   "metadata": {},
   "outputs": [
    {
     "name": "stdout",
     "output_type": "stream",
     "text": [
      "Корреляция Пирсона (x-y2): 3.469446951953614e-17\n",
      "Корреляция Спирмена (x-y2): 0.002646479021386217\n"
     ]
    }
   ],
   "source": [
    "corr_pearson, _ = pearsonr(x, y2)\n",
    "corr_spearman, _ = spearmanr(x, y2)\n",
    "print(\"Корреляция Пирсона (x-y2):\", corr_pearson)\n",
    "print(\"Корреляция Спирмена (x-y2):\", corr_spearman)"
   ]
  },
  {
   "cell_type": "code",
   "execution_count": 35,
   "id": "26a0afd3",
   "metadata": {},
   "outputs": [
    {
     "name": "stdout",
     "output_type": "stream",
     "text": [
      "Корреляция Пирсона (x-y3): 0.0\n",
      "Корреляция Спирмена (x-y3): -0.0015483220600201772\n"
     ]
    }
   ],
   "source": [
    "corr_pearson, _ = pearsonr(x, y3)\n",
    "corr_spearman, _ = spearmanr(x, y3)\n",
    "print(\"Корреляция Пирсона (x-y3):\", corr_pearson)\n",
    "print(\"Корреляция Спирмена (x-y3):\", corr_spearman)"
   ]
  },
  {
   "cell_type": "code",
   "execution_count": 36,
   "id": "63f554cd",
   "metadata": {},
   "outputs": [
    {
     "data": {
      "image/png": "[encoded data removed]",
      "text/plain": [
       "<Figure size 1500x500 with 3 Axes>"
      ]
     },
     "metadata": {},
     "output_type": "display_data"
    }
   ],
   "source": [
    "# Создание фигуры и осей с подходящим макетом\n",
    "fig, axs = plt.subplots(1, 3, figsize=(15, 5))\n",
    "\n",
    "# График для выборки x-y1\n",
    "axs[0].scatter(x, y1, label='y1')\n",
    "axs[0].set_xlabel('x')\n",
    "axs[0].set_ylabel('y')\n",
    "axs[0].set_title(f\"График y1\\nКорреляция Пирсона: {corr_pearson:.2f}\\nКорреляция Спирмена: {corr_spearman:.2f}\")\n",
    "\n",
    "# График для выборки x-y2\n",
    "axs[1].scatter(x, y2, label='y2')\n",
    "axs[1].set_xlabel('x')\n",
    "axs[1].set_ylabel('y')\n",
    "axs[1].set_title(f\"График y2\\nКорреляция Пирсона: {corr_pearson:.2f}\\nКорреляция Спирмена: {corr_spearman:.2f}\")\n",
    "\n",
    "# График для выборки x-y3\n",
    "axs[2].scatter(x, y3, label='y3')\n",
    "axs[2].set_xlabel('x')\n",
    "axs[2].set_ylabel('y')\n",
    "axs[2].set_title(f\"График y3\\nКорреляция Пирсона: {corr_pearson:.2f}\\nКорреляция Спирмена: {corr_spearman:.2f}\") \n",
    "\n",
    "# Отображение графиков\n",
    "plt.tight_layout()\n",
    "plt.show()"
   ]
  },
  {
   "attachments": {},
   "cell_type": "markdown",
   "id": "4917b9fb",
   "metadata": {},
   "source": [
    "### Задание 10"
   ]
  },
  {
   "attachments": {},
   "cell_type": "markdown",
   "id": "8dc4910b",
   "metadata": {},
   "source": [
    "Построй облако из тысячи точек c помощью приведенного кода.\n",
    "Выведи значения коэффициентов корреляции.\n",
    "Случайным образом выбери четыре точки. Каждую из точек передвигать в правый верхний угол относительно облака точек \n",
    "(тем самым создавая выброс):\n",
    "значения по оси х 25, 50, 150, 650\n",
    "по оси y 20, 40, 60, 80.\n",
    "Выводи на графике перемещения точек.\n",
    "Для каждого расстояния рассчитай коэффициент корреляции Пирсона и Спирмана."
   ]
  },
  {
   "cell_type": "code",
   "execution_count": 37,
   "id": "7269946b",
   "metadata": {},
   "outputs": [],
   "source": [
    "# Создается массив step, содержащий значения от -10 до 0 с равными промежутками.\n",
    "step = np.linspace(-10, 0, 1000)\n",
    "x = -step + np.random.randn(1000) * 0.2\n",
    "y = step + np.random.randn(1000)* 0.2"
   ]
  },
  {
   "cell_type": "code",
   "execution_count": 38,
   "id": "5d5100ee",
   "metadata": {},
   "outputs": [
    {
     "name": "stdout",
     "output_type": "stream",
     "text": [
      "Коэффициент корреляции Пирсона: -0.9953808388304562\n",
      "Коэффициент корреляции Спирмена: -0.9954381114381115\n",
      "Коэффициент корреляции Пирсона после перемещения: 0.5816494040264834\n",
      "Коэффициент корреляции Спирмена после перемещения: -0.9715882435882437\n"
     ]
    },
    {
     "data": {
      "image/png": "[encoded data removed]",
      "text/plain": [
       "<Figure size 640x480 with 1 Axes>"
      ]
     },
     "metadata": {},
     "output_type": "display_data"
    }
   ],
   "source": [
    "# Рассчитываются коэффициенты корреляции Пирсона \n",
    "corr_pearson, _ = pearsonr(x, y)\n",
    "# Рассчитываются коэффициенты корреляции Спирмена\n",
    "corr_spearman, _ = spearmanr(x, y)\n",
    "print(\"Коэффициент корреляции Пирсона:\", corr_pearson)\n",
    "print(\"Коэффициент корреляции Спирмена:\", corr_spearman)\n",
    "\n",
    "# Создание графика с облаком точек\n",
    "plt.scatter(x, y, alpha=0.9)\n",
    "plt.xlabel('x')\n",
    "plt.ylabel('y')\n",
    "plt.title('Облако точек')\n",
    "\n",
    "# Случайный выбор четырех точек для перемещения\n",
    "# random_indices - случайно выбирается четыре индекса из массива x с использованием функции np.random.choice. \n",
    "# len(x) указывает на количество элементов в массиве x \n",
    "# size=4 означает, что нужно выбрать четыре уникальных значения. \n",
    "# Параметр replace=False указывает, что выбранные значения не должны повторяться.\n",
    "\n",
    "random_indices = np.random.choice(len(x), size=4, replace=False)\n",
    "x_outliers = [25, 50, 150, 650]\n",
    "y_outliers = [20, 40, 60, 80]\n",
    "\n",
    "# В цикле for происходит итерация по парам индексов index и outlier_index, сгенерированных с помощью enumerate(random_indices). \n",
    "# index соответствует индексу новых значений в списках x_outliers и y_outliers, \n",
    "# а outlier_index - индексу точек в массивах x и y, которые будут перемещены.\n",
    "for index, outlier_index in enumerate(random_indices):\n",
    "    # выполняется перемещение выбранных точек путем присвоения новых значений. \n",
    "    # x[outlier_index] = x_outliers[index] и y[outlier_index] = y_outliers[index] \n",
    "    # переназначают значения x и y для выбранной точки.\n",
    "    x[outlier_index] = x_outliers[index]\n",
    "    y[outlier_index] = y_outliers[index]\n",
    "    # строятся стрелки, указывающие на новое положение перемещенных точек. \n",
    "    # Аргументы функции определяют начальные и конечные координаты стрелки. \n",
    "    # x[outlier_index - 1] и y[outlier_index - 1] представляют предыдущие координаты точки, \n",
    "    # а x[outlier_index] и y[outlier_index] - новые координаты точки. head_width, head_length, \n",
    "    # fc и ec определяют внешний вид стрелки (ширина головы, длина головы, цвет заливки и цвет контура соответственно). \n",
    "    # В данном случае, стрелки отображаются красным цветом.\n",
    "    plt.arrow(x[outlier_index - 1], y[outlier_index - 1], x[outlier_index] - x[outlier_index - 1],\n",
    "              y[outlier_index] - y[outlier_index - 1], head_width=0.5, head_length=1, fc='red', ec='red')\n",
    "\n",
    "# Повторное вычисление коэффициентов корреляции после перемещения точек\n",
    "corr_pearson, _ = pearsonr(x, y)\n",
    "corr_spearman, _ = spearmanr(x, y)\n",
    "print(\"Коэффициент корреляции Пирсона после перемещения:\", corr_pearson)\n",
    "print(\"Коэффициент корреляции Спирмена после перемещения:\", corr_spearman)\n",
    "\n",
    "# Отображение графика\n",
    "plt.tight_layout()\n",
    "plt.show()"
   ]
  }
 ],
 "metadata": {
  "kernelspec": {
   "display_name": "Python 3 (ipykernel)",
   "language": "python",
   "name": "python3"
  },
  "language_info": {
   "codemirror_mode": {
    "name": "ipython",
    "version": 3
   },
   "file_extension": ".py",
   "mimetype": "text/x-python",
   "name": "python",
   "nbconvert_exporter": "python",
   "pygments_lexer": "ipython3",
   "version": "3.10.11"
  }
 },
 "nbformat": 4,
 "nbformat_minor": 5
}
